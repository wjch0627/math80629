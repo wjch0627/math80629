{
 "cells": [
  {
   "cell_type": "code",
   "execution_count": 2,
   "metadata": {
    "colab": {
     "base_uri": "https://localhost:8080/",
     "height": 77,
     "resources": {
      "http://localhost:8080/nbextensions/google.colab/files.js": {
       "data": "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",
       "headers": [
        [
         "content-type",
         "application/javascript"
        ]
       ],
       "ok": true,
       "status": 200,
       "status_text": ""
      }
     }
    },
    "id": "i7qOU0-owuCm",
    "outputId": "a4b1120e-f889-411f-9d19-522ddd274b2e"
   },
   "outputs": [],
   "source": [
    "import pandas as pd\n",
    "data = pd.read_csv('/Users/sun/Desktop/default.csv')"
   ]
  },
  {
   "cell_type": "code",
   "execution_count": 1,
   "metadata": {
    "colab": {
     "base_uri": "https://localhost:8080/",
     "height": 278
    },
    "id": "-eIO1cnDxkPu",
    "outputId": "dfc49982-9931-4c9d-a67e-088ed6ac3490"
   },
   "outputs": [
    {
     "data": {
      "text/html": [
       "<div>\n",
       "<style scoped>\n",
       "    .dataframe tbody tr th:only-of-type {\n",
       "        vertical-align: middle;\n",
       "    }\n",
       "\n",
       "    .dataframe tbody tr th {\n",
       "        vertical-align: top;\n",
       "    }\n",
       "\n",
       "    .dataframe thead th {\n",
       "        text-align: right;\n",
       "    }\n",
       "</style>\n",
       "<table border=\"1\" class=\"dataframe\">\n",
       "  <thead>\n",
       "    <tr style=\"text-align: right;\">\n",
       "      <th></th>\n",
       "      <th>ID</th>\n",
       "      <th>LIMIT_BAL</th>\n",
       "      <th>SEX</th>\n",
       "      <th>EDUCATION</th>\n",
       "      <th>MARRIAGE</th>\n",
       "      <th>AGE</th>\n",
       "      <th>PAY_0</th>\n",
       "      <th>PAY_2</th>\n",
       "      <th>PAY_3</th>\n",
       "      <th>PAY_4</th>\n",
       "      <th>...</th>\n",
       "      <th>BILL_AMT4</th>\n",
       "      <th>BILL_AMT5</th>\n",
       "      <th>BILL_AMT6</th>\n",
       "      <th>PAY_AMT1</th>\n",
       "      <th>PAY_AMT2</th>\n",
       "      <th>PAY_AMT3</th>\n",
       "      <th>PAY_AMT4</th>\n",
       "      <th>PAY_AMT5</th>\n",
       "      <th>PAY_AMT6</th>\n",
       "      <th>default payment next month</th>\n",
       "    </tr>\n",
       "  </thead>\n",
       "  <tbody>\n",
       "    <tr>\n",
       "      <th>0</th>\n",
       "      <td>1</td>\n",
       "      <td>20000</td>\n",
       "      <td>2</td>\n",
       "      <td>2</td>\n",
       "      <td>1</td>\n",
       "      <td>24</td>\n",
       "      <td>2</td>\n",
       "      <td>2</td>\n",
       "      <td>-1</td>\n",
       "      <td>-1</td>\n",
       "      <td>...</td>\n",
       "      <td>0</td>\n",
       "      <td>0</td>\n",
       "      <td>0</td>\n",
       "      <td>0</td>\n",
       "      <td>689</td>\n",
       "      <td>0</td>\n",
       "      <td>0</td>\n",
       "      <td>0</td>\n",
       "      <td>0</td>\n",
       "      <td>1</td>\n",
       "    </tr>\n",
       "    <tr>\n",
       "      <th>1</th>\n",
       "      <td>2</td>\n",
       "      <td>120000</td>\n",
       "      <td>2</td>\n",
       "      <td>2</td>\n",
       "      <td>2</td>\n",
       "      <td>26</td>\n",
       "      <td>-1</td>\n",
       "      <td>2</td>\n",
       "      <td>0</td>\n",
       "      <td>0</td>\n",
       "      <td>...</td>\n",
       "      <td>3272</td>\n",
       "      <td>3455</td>\n",
       "      <td>3261</td>\n",
       "      <td>0</td>\n",
       "      <td>1000</td>\n",
       "      <td>1000</td>\n",
       "      <td>1000</td>\n",
       "      <td>0</td>\n",
       "      <td>2000</td>\n",
       "      <td>1</td>\n",
       "    </tr>\n",
       "    <tr>\n",
       "      <th>2</th>\n",
       "      <td>3</td>\n",
       "      <td>90000</td>\n",
       "      <td>2</td>\n",
       "      <td>2</td>\n",
       "      <td>2</td>\n",
       "      <td>34</td>\n",
       "      <td>0</td>\n",
       "      <td>0</td>\n",
       "      <td>0</td>\n",
       "      <td>0</td>\n",
       "      <td>...</td>\n",
       "      <td>14331</td>\n",
       "      <td>14948</td>\n",
       "      <td>15549</td>\n",
       "      <td>1518</td>\n",
       "      <td>1500</td>\n",
       "      <td>1000</td>\n",
       "      <td>1000</td>\n",
       "      <td>1000</td>\n",
       "      <td>5000</td>\n",
       "      <td>0</td>\n",
       "    </tr>\n",
       "    <tr>\n",
       "      <th>3</th>\n",
       "      <td>4</td>\n",
       "      <td>50000</td>\n",
       "      <td>2</td>\n",
       "      <td>2</td>\n",
       "      <td>1</td>\n",
       "      <td>37</td>\n",
       "      <td>0</td>\n",
       "      <td>0</td>\n",
       "      <td>0</td>\n",
       "      <td>0</td>\n",
       "      <td>...</td>\n",
       "      <td>28314</td>\n",
       "      <td>28959</td>\n",
       "      <td>29547</td>\n",
       "      <td>2000</td>\n",
       "      <td>2019</td>\n",
       "      <td>1200</td>\n",
       "      <td>1100</td>\n",
       "      <td>1069</td>\n",
       "      <td>1000</td>\n",
       "      <td>0</td>\n",
       "    </tr>\n",
       "    <tr>\n",
       "      <th>4</th>\n",
       "      <td>5</td>\n",
       "      <td>50000</td>\n",
       "      <td>1</td>\n",
       "      <td>2</td>\n",
       "      <td>1</td>\n",
       "      <td>57</td>\n",
       "      <td>-1</td>\n",
       "      <td>0</td>\n",
       "      <td>-1</td>\n",
       "      <td>0</td>\n",
       "      <td>...</td>\n",
       "      <td>20940</td>\n",
       "      <td>19146</td>\n",
       "      <td>19131</td>\n",
       "      <td>2000</td>\n",
       "      <td>36681</td>\n",
       "      <td>10000</td>\n",
       "      <td>9000</td>\n",
       "      <td>689</td>\n",
       "      <td>679</td>\n",
       "      <td>0</td>\n",
       "    </tr>\n",
       "  </tbody>\n",
       "</table>\n",
       "<p>5 rows × 25 columns</p>\n",
       "</div>"
      ],
      "text/plain": [
       "   ID  LIMIT_BAL  SEX  EDUCATION  MARRIAGE  AGE  PAY_0  PAY_2  PAY_3  PAY_4  \\\n",
       "0   1      20000    2          2         1   24      2      2     -1     -1   \n",
       "1   2     120000    2          2         2   26     -1      2      0      0   \n",
       "2   3      90000    2          2         2   34      0      0      0      0   \n",
       "3   4      50000    2          2         1   37      0      0      0      0   \n",
       "4   5      50000    1          2         1   57     -1      0     -1      0   \n",
       "\n",
       "   ...  BILL_AMT4  BILL_AMT5  BILL_AMT6  PAY_AMT1  PAY_AMT2  PAY_AMT3  \\\n",
       "0  ...          0          0          0         0       689         0   \n",
       "1  ...       3272       3455       3261         0      1000      1000   \n",
       "2  ...      14331      14948      15549      1518      1500      1000   \n",
       "3  ...      28314      28959      29547      2000      2019      1200   \n",
       "4  ...      20940      19146      19131      2000     36681     10000   \n",
       "\n",
       "   PAY_AMT4  PAY_AMT5  PAY_AMT6  default payment next month  \n",
       "0         0         0         0                           1  \n",
       "1      1000         0      2000                           1  \n",
       "2      1000      1000      5000                           0  \n",
       "3      1100      1069      1000                           0  \n",
       "4      9000       689       679                           0  \n",
       "\n",
       "[5 rows x 25 columns]"
      ]
     },
     "execution_count": 1,
     "metadata": {},
     "output_type": "execute_result"
    }
   ],
   "source": [
    "import pandas as pd\n",
    "data = pd.read_csv('/Users/51310/Desktop/project/default.csv')\n",
    "data.dtypes\n",
    "data.head()"
   ]
  },
  {
   "cell_type": "code",
   "execution_count": 2,
   "metadata": {
    "colab": {
     "base_uri": "https://localhost:8080/"
    },
    "id": "0jiYNJeFxpyy",
    "outputId": "067ebfa7-f625-419b-ee15-bc3698ca6724"
   },
   "outputs": [
    {
     "name": "stdout",
     "output_type": "stream",
     "text": [
      "            LIMIT_BAL           SEX     EDUCATION      MARRIAGE           AGE\n",
      "count    30000.000000  30000.000000  30000.000000  30000.000000  30000.000000\n",
      "mean    167484.322667      1.603733      1.853133      1.551867     35.485500\n",
      "std     129747.661567      0.489129      0.790349      0.521970      9.217904\n",
      "min      10000.000000      1.000000      0.000000      0.000000     21.000000\n",
      "25%      50000.000000      1.000000      1.000000      1.000000     28.000000\n",
      "50%     140000.000000      2.000000      2.000000      2.000000     34.000000\n",
      "75%     240000.000000      2.000000      2.000000      2.000000     41.000000\n",
      "max    1000000.000000      2.000000      6.000000      3.000000     79.000000\n",
      "              PAY_0         PAY_2         PAY_3         PAY_4         PAY_5  \\\n",
      "count  30000.000000  30000.000000  30000.000000  30000.000000  30000.000000   \n",
      "mean      -0.016700     -0.133767     -0.166200     -0.220667     -0.266200   \n",
      "std        1.123802      1.197186      1.196868      1.169139      1.133187   \n",
      "min       -2.000000     -2.000000     -2.000000     -2.000000     -2.000000   \n",
      "25%       -1.000000     -1.000000     -1.000000     -1.000000     -1.000000   \n",
      "50%        0.000000      0.000000      0.000000      0.000000      0.000000   \n",
      "75%        0.000000      0.000000      0.000000      0.000000      0.000000   \n",
      "max        8.000000      8.000000      8.000000      8.000000      8.000000   \n",
      "\n",
      "              PAY_6  \n",
      "count  30000.000000  \n",
      "mean      -0.291100  \n",
      "std        1.149988  \n",
      "min       -2.000000  \n",
      "25%       -1.000000  \n",
      "50%        0.000000  \n",
      "75%        0.000000  \n",
      "max        8.000000  \n",
      "           BILL_AMT1      BILL_AMT2     BILL_AMT3      BILL_AMT4  \\\n",
      "count   30000.000000   30000.000000  3.000000e+04   30000.000000   \n",
      "mean    51223.330900   49179.075167  4.701315e+04   43262.948967   \n",
      "std     73635.860576   71173.768783  6.934939e+04   64332.856134   \n",
      "min   -165580.000000  -69777.000000 -1.572640e+05 -170000.000000   \n",
      "25%      3558.750000    2984.750000  2.666250e+03    2326.750000   \n",
      "50%     22381.500000   21200.000000  2.008850e+04   19052.000000   \n",
      "75%     67091.000000   64006.250000  6.016475e+04   54506.000000   \n",
      "max    964511.000000  983931.000000  1.664089e+06  891586.000000   \n",
      "\n",
      "           BILL_AMT5      BILL_AMT6  \n",
      "count   30000.000000   30000.000000  \n",
      "mean    40311.400967   38871.760400  \n",
      "std     60797.155770   59554.107537  \n",
      "min    -81334.000000 -339603.000000  \n",
      "25%      1763.000000    1256.000000  \n",
      "50%     18104.500000   17071.000000  \n",
      "75%     50190.500000   49198.250000  \n",
      "max    927171.000000  961664.000000  \n",
      "            PAY_AMT1      PAY_AMT2      PAY_AMT3       PAY_AMT4  \\\n",
      "count   30000.000000  3.000000e+04   30000.00000   30000.000000   \n",
      "mean     5663.580500  5.921163e+03    5225.68150    4826.076867   \n",
      "std     16563.280354  2.304087e+04   17606.96147   15666.159744   \n",
      "min         0.000000  0.000000e+00       0.00000       0.000000   \n",
      "25%      1000.000000  8.330000e+02     390.00000     296.000000   \n",
      "50%      2100.000000  2.009000e+03    1800.00000    1500.000000   \n",
      "75%      5006.000000  5.000000e+03    4505.00000    4013.250000   \n",
      "max    873552.000000  1.684259e+06  896040.00000  621000.000000   \n",
      "\n",
      "            PAY_AMT5       PAY_AMT6  \n",
      "count   30000.000000   30000.000000  \n",
      "mean     4799.387633    5215.502567  \n",
      "std     15278.305679   17777.465775  \n",
      "min         0.000000       0.000000  \n",
      "25%       252.500000     117.750000  \n",
      "50%      1500.000000    1500.000000  \n",
      "75%      4031.500000    4000.000000  \n",
      "max    426529.000000  528666.000000  \n",
      "       default payment next month\n",
      "count                30000.000000\n",
      "mean                     0.221200\n",
      "std                      0.415062\n",
      "min                      0.000000\n",
      "25%                      0.000000\n",
      "50%                      0.000000\n",
      "75%                      0.000000\n",
      "max                      1.000000\n"
     ]
    }
   ],
   "source": [
    "LIMIT_AGE = data.iloc[:,1:6]\n",
    "LIMIT_AGE.head()\n",
    "PAY = data.iloc[:,6:12]\n",
    "PAY.head()\n",
    "BILL = data.iloc[:,12:18]\n",
    "BILL.head()\n",
    "PAY_AMT = data.iloc[:,18:24]\n",
    "PAY_AMT.head()\n",
    "DEF = data.loc[:,['default payment next month']]\n",
    "DEF.head()\n",
    "print(LIMIT_AGE.describe())\n",
    "print(PAY.describe())\n",
    "print(BILL.describe())\n",
    "print(PAY_AMT.describe())\n",
    "print(DEF.describe())"
   ]
  },
  {
   "cell_type": "code",
   "execution_count": 3,
   "metadata": {
    "colab": {
     "base_uri": "https://localhost:8080/",
     "height": 740
    },
    "id": "2jcBw7a1x6WH",
    "outputId": "efaa698c-8d5b-4ef3-89ce-420750afdbea"
   },
   "outputs": [
    {
     "data": {
      "image/png": "[encoded data removed]",
      "text/plain": [
       "<Figure size 1440x1152 with 25 Axes>"
      ]
     },
     "metadata": {
      "needs_background": "light"
     },
     "output_type": "display_data"
    }
   ],
   "source": [
    "import matplotlib.pyplot as plt\n",
    "\n",
    "data.hist(figsize=(20, 16), bins=20, edgecolor=\"black\")\n",
    "plt.subplots_adjust(hspace=0.8, wspace=0.5)"
   ]
  },
  {
   "cell_type": "markdown",
   "metadata": {
    "id": "YBxBxr400q9t"
   },
   "source": [
    "# split data into train and test"
   ]
  },
  {
   "cell_type": "code",
   "execution_count": 20,
   "metadata": {
    "id": "APXW6eP5ydNy"
   },
   "outputs": [],
   "source": [
    "Y = data[\"default payment next month\"]\n",
    "X = data.drop(\"default payment next month\",axis=1)\n",
    "X = X.drop(\"ID\",axis=1)\n",
    "from sklearn.model_selection import train_test_split\n",
    "X_train, X_test, Y_train, Y_test = train_test_split(X, Y, \n",
    "                                                    test_size=0.2, \n",
    "                                                    random_state=999)"
   ]
  },
  {
   "cell_type": "markdown",
   "metadata": {},
   "source": [
    "# Logit regression "
   ]
  },
  {
   "cell_type": "code",
   "execution_count": 98,
   "metadata": {
    "collapsed": true
   },
   "outputs": [],
   "source": [
    "parameter_all0 = {\n",
    "    'penalty': ['l1','l2'],\n",
    "    'C':[0.01,0.1,1,10,100]\n",
    "}"
   ]
  },
  {
   "cell_type": "code",
   "execution_count": 99,
   "metadata": {},
   "outputs": [],
   "source": [
    "from sklearn.model_selection import GridSearchCV\n",
    "from sklearn.linear_model import LogisticRegression\n",
    "Logit = LogisticRegression()\n",
    "Logit_regression = GridSearchCV(Logit, parameter_all0,scoring=\"accuracy\")\n",
    "Logit_regression.fit(X_train, Y_train)\n",
    "predicted_Logit_regression = Logit_regression.predict(X_test)"
   ]
  },
  {
   "cell_type": "code",
   "execution_count": 100,
   "metadata": {},
   "outputs": [
    {
     "name": "stdout",
     "output_type": "stream",
     "text": [
      "Best parameter {'C': 1, 'penalty': 'l1'}\n",
      "accuracy on training set: 0.813208333333\n",
      "accuracy on test set: 0.803833333333\n"
     ]
    }
   ],
   "source": [
    "print('Best parameter', Logit_regression.best_params_)\n",
    "print('accuracy on training set:',Logit_regression.score(X_train,Y_train))\n",
    "print('accuracy on test set:',Logit_regression.score(X_test,Y_test))"
   ]
  },
  {
   "cell_type": "markdown",
   "metadata": {
    "id": "xnSL4Q_000JJ"
   },
   "source": [
    "# KNN"
   ]
  },
  {
   "cell_type": "code",
   "execution_count": 10,
   "metadata": {
    "collapsed": true,
    "id": "ThaYY_Pb03Z1"
   },
   "outputs": [],
   "source": [
    "parameter_all1 = {\n",
    "    'n_neighbors': [1,2,3,4,5,6,7,8,9,10,11,12,13,14,15], \n",
    "}"
   ]
  },
  {
   "cell_type": "code",
   "execution_count": 96,
   "metadata": {
    "id": "ogN9VyQX1PqR"
   },
   "outputs": [],
   "source": [
    "from sklearn.model_selection import GridSearchCV\n",
    "from sklearn.neighbors import KNeighborsClassifier\n",
    "neigh = KNeighborsClassifier()\n",
    "KNN = GridSearchCV(neigh, parameter_all1,scoring=\"accuracy\")\n",
    "KNN.fit(X_train, Y_train)\n",
    "predicted_KNN = KNN.predict(X_test)"
   ]
  },
  {
   "cell_type": "code",
   "execution_count": 97,
   "metadata": {
    "colab": {
     "base_uri": "https://localhost:8080/"
    },
    "id": "IyCPiFIK2C4y",
    "outputId": "e1c90337-3afc-49ba-f6ed-a8118765ea37"
   },
   "outputs": [
    {
     "name": "stdout",
     "output_type": "stream",
     "text": [
      "Best parameter {'n_neighbors': 14}\n",
      "accuracy on training set: 0.791\n",
      "accuracy on test set: 0.770333333333\n"
     ]
    }
   ],
   "source": [
    "print('Best parameter', KNN.best_params_)\n",
    "print('accuracy on training set:',KNN.score(X_train,Y_train))\n",
    "print('accuracy on test set:',KNN.score(X_test,Y_test))"
   ]
  },
  {
   "cell_type": "markdown",
   "metadata": {
    "id": "b29gSDlM1vTS"
   },
   "source": [
    "# naive bayes\n"
   ]
  },
  {
   "cell_type": "code",
   "execution_count": 5,
   "metadata": {
    "colab": {
     "base_uri": "https://localhost:8080/"
    },
    "id": "04mFuYX6y8l_",
    "outputId": "678f1180-5bd0-49d0-9139-465e6961915a"
   },
   "outputs": [
    {
     "name": "stdout",
     "output_type": "stream",
     "text": [
      "accuracy on training set: 0.7727083333333333\n",
      "accuracy on test set: 0.7635\n"
     ]
    }
   ],
   "source": [
    "from sklearn.naive_bayes import BernoulliNB\n",
    "Naive_bayes = BernoulliNB()\n",
    "Naive_bayes.fit(X_train, Y_train)\n",
    "predicted_Naive_bayes = Naive_bayes.predict(X_test)\n",
    "print('accuracy on training set:', Naive_bayes.score(X_train,Y_train))\n",
    "print('accuracy on test set:',Naive_bayes.score(X_test,Y_test))"
   ]
  },
  {
   "cell_type": "code",
   "execution_count": 31,
   "metadata": {},
   "outputs": [],
   "source": [
    "df1=pd.DataFrame({'default':Y_train})\n",
    "d=pd.concat([X_train,df1],axis=1)"
   ]
  },
  {
   "cell_type": "code",
   "execution_count": 33,
   "metadata": {},
   "outputs": [
    {
     "name": "stdout",
     "output_type": "stream",
     "text": [
      "Optimization terminated successfully.\n",
      "         Current function value: 0.526120\n",
      "         Iterations 5\n",
      "                           Logit Regression Results                           \n",
      "==============================================================================\n",
      "Dep. Variable:                default   No. Observations:                24000\n",
      "Model:                          Logit   Df Residuals:                    23996\n",
      "Method:                           MLE   Df Model:                            3\n",
      "Date:                Mon, 20 Dec 2021   Pseudo R-squ.:               0.0008958\n",
      "Time:                        19:27:33   Log-Likelihood:                -12627.\n",
      "converged:                       True   LL-Null:                       -12638.\n",
      "Covariance Type:            nonrobust   LLR p-value:                 4.795e-05\n",
      "=======================================================================================\n",
      "                          coef    std err          z      P>|z|      [0.025      0.975]\n",
      "---------------------------------------------------------------------------------------\n",
      "Intercept              -1.2059      0.021    -57.105      0.000      -1.247      -1.165\n",
      "BILL_AMT1           -2.295e-06   7.38e-07     -3.109      0.002   -3.74e-06   -8.48e-07\n",
      "BILL_AMT2            4.558e-07   7.67e-07      0.594      0.552   -1.05e-06    1.96e-06\n",
      "BILL_AMT1:BILL_AMT2  4.329e-12   1.31e-12      3.298      0.001    1.76e-12     6.9e-12\n",
      "=======================================================================================\n"
     ]
    }
   ],
   "source": [
    "import statsmodels.formula.api as smf\n",
    "result = smf.logit(formula='default ~ (BILL_AMT1+BILL_AMT2)**2', data=d).fit()    \n",
    "print(result.summary())  "
   ]
  },
  {
   "cell_type": "markdown",
   "metadata": {},
   "source": [
    "# SVM"
   ]
  },
  {
   "cell_type": "code",
   "execution_count": 14,
   "metadata": {
    "collapsed": true
   },
   "outputs": [],
   "source": [
    "parameter_all2 = {\n",
    "    'C':[0.01,0.1,1,10,11,12,13,14,15,16,17,18,19,20]\n",
    "}"
   ]
  },
  {
   "cell_type": "code",
   "execution_count": 15,
   "metadata": {},
   "outputs": [],
   "source": [
    "from sklearn.model_selection import GridSearchCV\n",
    "from sklearn.svm import SVC\n",
    "svc_clf=SVC(random_state=999)\n",
    "SVM = GridSearchCV(svc_clf, parameter_all2,scoring=\"accuracy\")\n",
    "SVM.fit(X_train, Y_train)\n",
    "predicted_svm = SVM.predict(X_test)"
   ]
  },
  {
   "cell_type": "code",
   "execution_count": 16,
   "metadata": {},
   "outputs": [
    {
     "name": "stdout",
     "output_type": "stream",
     "text": [
      "Best parameter {'C': 1}\n",
      "accuracy on training set: 0.993791666667\n",
      "accuracy on test set: 0.773166666667\n"
     ]
    }
   ],
   "source": [
    "print('Best parameter', SVM.best_params_)\n",
    "print('accuracy on training set:', SVM.score(X_train,Y_train))\n",
    "print('accuracy on test set:',SVM.score(X_test,Y_test))"
   ]
  },
  {
   "cell_type": "markdown",
   "metadata": {},
   "source": [
    "# Decision Tree"
   ]
  },
  {
   "cell_type": "code",
   "execution_count": 17,
   "metadata": {},
   "outputs": [
    {
     "name": "stdout",
     "output_type": "stream",
     "text": [
      "accuracy on training set: 0.999375\n",
      "accuracy on test set: 0.707333333333\n"
     ]
    }
   ],
   "source": [
    "from sklearn.tree import DecisionTreeClassifier\n",
    "DT0 = DecisionTreeClassifier(max_depth=50,random_state=999)\n",
    "DT0.fit(X_train, Y_train)\n",
    "predicted_DecisionTree0 = DT0.predict(X_test)\n",
    "print('accuracy on training set:',DT0.score(X_train,Y_train))\n",
    "print('accuracy on test set:',DT0.score(X_test,Y_test))"
   ]
  },
  {
   "cell_type": "code",
   "execution_count": 18,
   "metadata": {
    "collapsed": true
   },
   "outputs": [],
   "source": [
    "parameter_all3 = {\n",
    "    'max_depth': [4,5,6,7,8,9,10,11,12,13,14,15,16,17,18,19,20,21,22,23,24,25,26,27,28,29,30,\n",
    "                  31,32,33,34,35,36,37,38,39,40,41,42,43,44,45,46,47,48,49,50]\n",
    "}"
   ]
  },
  {
   "cell_type": "code",
   "execution_count": 19,
   "metadata": {},
   "outputs": [
    {
     "name": "stdout",
     "output_type": "stream",
     "text": [
      "Best parameter {'max_depth': 4}\n",
      "accuracy on training set: 0.825416666667\n",
      "accuracy on test set: 0.810333333333\n"
     ]
    }
   ],
   "source": [
    "DT = DecisionTreeClassifier(random_state=999)\n",
    "DecisionTree = GridSearchCV(DT, parameter_all3,scoring=\"accuracy\")\n",
    "DecisionTree.fit(X_train, Y_train)\n",
    "predicted_DecisionTree = DecisionTree.predict(X_test)\n",
    "print('Best parameter', DecisionTree.best_params_)\n",
    "print('accuracy on training set:',DecisionTree.score(X_train,Y_train))\n",
    "print('accuracy on test set:',DecisionTree.score(X_test,Y_test))"
   ]
  },
  {
   "cell_type": "markdown",
   "metadata": {},
   "source": [
    "# Random Forest"
   ]
  },
  {
   "cell_type": "code",
   "execution_count": 20,
   "metadata": {},
   "outputs": [
    {
     "name": "stdout",
     "output_type": "stream",
     "text": [
      "accuracy on training set: 0.999\n",
      "accuracy on test set: 0.803833333333\n"
     ]
    }
   ],
   "source": [
    "from sklearn.ensemble import RandomForestClassifier\n",
    "forest0 = RandomForestClassifier(n_estimators=55,max_depth=50,random_state=999)\n",
    "forest0.fit(X_train, Y_train)\n",
    "predicted_forest = forest0.predict(X_test)\n",
    "print('accuracy on training set:',forest0.score(X_train,Y_train))\n",
    "print('accuracy on test set:',forest0.score(X_test,Y_test))"
   ]
  },
  {
   "cell_type": "code",
   "execution_count": 21,
   "metadata": {
    "collapsed": true
   },
   "outputs": [],
   "source": [
    "parameter_all4 = {\n",
    "    'n_estimators': [2,3,4,5,6,7,8,9,10,11,12,13,14,15,16,17,18,19,20,21,22,23,24,25,26,27,28,29,30,\n",
    "                  31,32,33,34,35,36,37,38,39,40,41,42,43,44,45,46,47,48,49,50,51,52,53,54,55],\n",
    "    'max_depth': [4,5,6,7,8,9,10,11,12,13,14,15,16,17,18,19,20,21,22,23,24,25,26,27,28,29,30,\n",
    "                  31,32,33,34,35,36,37,38,39,40,41,42,43,44,45,46,47,48,49,50]\n",
    "\n",
    "}\n"
   ]
  },
  {
   "cell_type": "code",
   "execution_count": 22,
   "metadata": {},
   "outputs": [
    {
     "name": "stdout",
     "output_type": "stream",
     "text": [
      "Best parameter {'max_depth': 6, 'n_estimators': 44}\n",
      "accuracy on training set: 0.828333333333\n",
      "accuracy on test set: 0.808833333333\n"
     ]
    }
   ],
   "source": [
    "from sklearn.ensemble import RandomForestClassifier\n",
    "forest = RandomForestClassifier(max_depth=5,random_state=999)\n",
    "RandomForest = GridSearchCV(forest, parameter_all4,scoring=\"accuracy\")\n",
    "RandomForest.fit(X_train, Y_train)\n",
    "predicted_randomforest = RandomForest.predict(X_test)\n",
    "print('Best parameter', RandomForest.best_params_)\n",
    "print('accuracy on training set:', RandomForest.score(X_train,Y_train))\n",
    "print('accuracy on test set:', RandomForest.score(X_test,Y_test))"
   ]
  },
  {
   "cell_type": "markdown",
   "metadata": {},
   "source": [
    "# neural network"
   ]
  },
  {
   "cell_type": "code",
   "execution_count": 23,
   "metadata": {
    "collapsed": true
   },
   "outputs": [],
   "source": [
    "from sklearn.neural_network import MLPClassifier\n",
    "from sklearn.model_selection import GridSearchCV\n",
    "from sklearn.metrics import accuracy_score"
   ]
  },
  {
   "cell_type": "code",
   "execution_count": 24,
   "metadata": {
    "collapsed": true
   },
   "outputs": [],
   "source": [
    "parameter_all5 = {\n",
    "    'hidden_layer_sizes': [(4,),(8,),(16,)\n",
    "                           (4,4),(4,8),(4,16),(8,4),(8,8),(8,16),(16,4),(16,8),(16,16),\n",
    "\n",
    "                           (4,4,4),(4,4,8),(4,4,16),(4,8,4),(4,8,8),(4,8,16),(4,16,4),(4,16,8),(4,16,16),\n",
    "                           (8,4,4),(8,4,8),(8,4,16),(8,8,4),(8,8,8),(8,8,16),(8,16,4),(8,16,8),(8,16,16),\n",
    "                           (16,4,4),(16,4,8),(16,4,16),(16,8,4),(16,8,8),(16,8,16),(16,16,4),(16,16,8),(16,16,16),\n",
    "                           \n",
    "                           (4,4,4,4),(4,4,4,8),(4,4,4,16),(4,4,8,4),(4,4,8,8),(4,4,8,16),(4,4,16,4),(4,4,16,8),(4,4,16,16),\n",
    "                           (4,8,4,4),(4,8,4,8),(4,8,4,16),(4,8,8,4),(4,8,8,8),(4,8,8,16),(4,8,16,4),(4,8,16,8),(4,8,16,16),\n",
    "                           (4,16,4,4),(4,16,4,8),(4,16,4,16),(4,16,8,4),(4,16,8,8),(4,16,8,16),(4,16,16,4),(4,16,16,8),(4,16,16,16),\n",
    "                           \n",
    "                           (8,4,4,4),(8,4,4,8),(8,4,4,16),(8,4,8,4),(8,4,8,8),(8,4,8,16),(8,4,16,4),(8,4,16,8),(8,4,16,16),\n",
    "                           (8,8,4,4),(8,8,4,8),(8,8,4,16),(8,8,8,4),(8,8,8,8),(8,8,8,16),(8,8,16,4),(8,8,16,8),(8,8,16,16),\n",
    "                           (8,16,4,4),(8,16,4,8),(8,16,4,16),(8,16,8,4),(8,16,8,8),(8,16,8,16),(8,16,16,4),(8,16,16,8),(8,16,16,16),\n",
    "                          \n",
    "                           (16,4,4,4),(16,4,4,8),(16,4,4,16),(16,4,8,4),(16,4,8,8),(16,4,8,16),(16,4,16,4),(16,4,16,8),(16,4,16,16),\n",
    "                           (16,8,4,4),(16,8,4,8),(16,8,4,16),(16,8,8,4),(16,8,8,8),(16,8,8,16),(16,8,16,4),(16,8,16,8),(16,8,16,16),\n",
    "                           (16,16,4,4),(16,16,4,8),(16,16,4,16),(16,16,8,4),(16,16,8,8),(16,16,8,16),(16,16,16,4),(16,16,16,8),(16,16,16,16)],\n",
    "    'learning_rate_init' :  [0.1,0.01,0.001],\n",
    "    'alpha': [0.001,0.01,0.1],\n",
    "    'activation' :('identity', 'logistic', 'tanh', 'relu'),\n",
    "}"
   ]
  },
  {
   "cell_type": "code",
   "execution_count": 25,
   "metadata": {},
   "outputs": [],
   "source": [
    "MLP = MLPClassifier(random_state=999)\n",
    "Neural_Network = GridSearchCV(MLP, parameter_all5,scoring=\"accuracy\")\n",
    "Neural_Network.fit(X_train, Y_train)\n",
    "predicted_Neural_Network = Neural_Network.predict(X_test_PCA)"
   ]
  },
  {
   "cell_type": "code",
   "execution_count": 26,
   "metadata": {},
   "outputs": [
    {
     "name": "stdout",
     "output_type": "stream",
     "text": [
      "Best parameter {'activation': 'identity', 'alpha': 0.001, 'hidden_layer_sizes': (16, 16, 4), 'learning_rate_init': 0.001}\n",
      "accuracy on training set: 0.777833333333\n",
      "accuracy on training set: 0.770166666667\n"
     ]
    }
   ],
   "source": [
    "print('Best parameter', Neural_Network.best_params_)\n",
    "print('accuracy on training set:', Neural_Network.score(X_train,Y_train))\n",
    "print('accuracy on training set:', Neural_Network.score(X_test,Y_test))"
   ]
  },
  {
   "cell_type": "markdown",
   "metadata": {
    "collapsed": true
   },
   "source": [
    "# ensemble"
   ]
  },
  {
   "cell_type": "code",
   "execution_count": 64,
   "metadata": {},
   "outputs": [
    {
     "name": "stdout",
     "output_type": "stream",
     "text": [
      "ensemble learning accuracy: 0.8005\n"
     ]
    }
   ],
   "source": [
    "import numpy as np\n",
    "predict_results = pd.DataFrame(columns=('predicted_Logit_regression','predicted_KNN','predicted_Naive_bayes',\n",
    "                                        'predicted_SVM','predicted_DecisionTree','predicted_forest',\n",
    "                                        'predicted_Neural_Network','Mode'))\n",
    "predict_results['predicted_Logit_regression'] =predicted_Logit_regression\n",
    "predict_results['predicted_KNN'] = predicted_KNN\n",
    "predict_results['predicted_Naive_bayes'] = predicted_Naive_bayes\n",
    "predict_results['predicted_SVM'] = predicted_svm\n",
    "predict_results['predicted_DecisionTree'] = predicted_DecisionTree\n",
    "predict_results['predicted_forest'] = predicted_forest\n",
    "predict_results['predicted_Neural_Network'] = predicted_Neural_Network\n",
    "predict_results['Mode'] = predict_results.mode(axis=1)\n",
    "predict_results\n",
    "print('ensemble learning accuracy:',np.mean(predict_results['Mode'].reset_index(drop=True) == Y_test.reset_index(drop=True)) )"
   ]
  },
  {
   "cell_type": "markdown",
   "metadata": {},
   "source": [
    "#  cluster"
   ]
  },
  {
   "cell_type": "code",
   "execution_count": 106,
   "metadata": {},
   "outputs": [
    {
     "data": {
      "text/plain": [
       "0.69416666666666671"
      ]
     },
     "execution_count": 106,
     "metadata": {},
     "output_type": "execute_result"
    }
   ],
   "source": [
    "from sklearn.cluster import KMeans\n",
    "import numpy as np\n",
    "kmeans = KMeans(n_clusters=2, random_state=999).fit(X_train)\n",
    "predicted_cluster = kmeans.predict(X_test)\n",
    "np.mean(predicted_cluster == Y_test)"
   ]
  },
  {
   "cell_type": "code",
   "execution_count": 162,
   "metadata": {},
   "outputs": [
    {
     "name": "stdout",
     "output_type": "stream",
     "text": [
      "0.693233333333\n",
      "8.69482011115e+14\n"
     ]
    }
   ],
   "source": [
    "from sklearn.cluster import KMeans\n",
    "import numpy as np\n",
    "kmeans1 = KMeans(n_clusters=2, random_state=999).fit(X)\n",
    "kmeans1.labels_\n",
    "print(np.mean(kmeans1.labels_ == Y))\n",
    "print(kmeans1.inertia_)"
   ]
  },
  {
   "cell_type": "markdown",
   "metadata": {},
   "source": [
    "# PCA"
   ]
  },
  {
   "cell_type": "code",
   "execution_count": 127,
   "metadata": {},
   "outputs": [],
   "source": [
    "import numpy as np\n",
    "from sklearn.decomposition import PCA\n",
    "pca = PCA(n_components=0.95)\n",
    "XPCA = pca.fit(X)\n",
    "X_PCA = XPCA.transform(X)"
   ]
  },
  {
   "cell_type": "code",
   "execution_count": 131,
   "metadata": {},
   "outputs": [
    {
     "data": {
      "text/plain": [
       "4"
      ]
     },
     "execution_count": 131,
     "metadata": {},
     "output_type": "execute_result"
    }
   ],
   "source": [
    "pca.n_components_"
   ]
  },
  {
   "cell_type": "code",
   "execution_count": 133,
   "metadata": {},
   "outputs": [
    {
     "data": {
      "text/plain": [
       "0.95611172253329957"
      ]
     },
     "execution_count": 133,
     "metadata": {},
     "output_type": "execute_result"
    }
   ],
   "source": [
    "sum(pca.explained_variance_ratio_)"
   ]
  },
  {
   "cell_type": "code",
   "execution_count": 134,
   "metadata": {},
   "outputs": [],
   "source": [
    "X_train_PCA, X_test_PCA, Y_train_PCA, Y_test_PCA = train_test_split(X_PCA, Y, \n",
    "                                                    test_size=0.2, \n",
    "                                                    random_state=999)"
   ]
  },
  {
   "cell_type": "code",
   "execution_count": 164,
   "metadata": {},
   "outputs": [
    {
     "data": {
      "text/plain": [
       "array([[ -1.67374271e+05,  -8.57084119e+04,  -4.16643470e+02,\n",
       "         -1.01841852e+02],\n",
       "       [ -1.22158109e+05,   3.54512672e+03,   2.58451743e+03,\n",
       "         -2.25736973e+03],\n",
       "       [ -1.00291005e+05,  -3.93530593e+04,  -2.72873922e+03,\n",
       "         -4.84066638e+03],\n",
       "       ..., \n",
       "       [ -1.38887879e+05,  -8.66696064e+04,   2.65750361e+04,\n",
       "         -6.25047012e+03],\n",
       "       [ -3.47567376e+04,  -7.77216534e+04,   2.04228667e+04,\n",
       "          4.90998742e+04],\n",
       "       [ -6.39114936e+04,  -1.00573587e+05,  -1.40878332e+04,\n",
       "          8.42176676e+03]])"
      ]
     },
     "execution_count": 164,
     "metadata": {},
     "output_type": "execute_result"
    }
   ],
   "source": [
    "X_PCA"
   ]
  },
  {
   "cell_type": "markdown",
   "metadata": {},
   "source": [
    "# PCA_cluster"
   ]
  },
  {
   "cell_type": "code",
   "execution_count": 135,
   "metadata": {},
   "outputs": [
    {
     "data": {
      "text/plain": [
       "0.69550000000000001"
      ]
     },
     "execution_count": 135,
     "metadata": {},
     "output_type": "execute_result"
    }
   ],
   "source": [
    "from sklearn.cluster import KMeans\n",
    "import numpy as np\n",
    "kmeans_PCA = KMeans(n_clusters=2, random_state=999).fit(X_train_PCA)\n",
    "predicted_cluster_PCA = kmeans_PCA.predict(X_test_PCA)\n",
    "np.mean(predicted_cluster_PCA == Y_test)"
   ]
  },
  {
   "cell_type": "code",
   "execution_count": 167,
   "metadata": {},
   "outputs": [
    {
     "name": "stdout",
     "output_type": "stream",
     "text": [
      "0.6932\n",
      "8.04276334313e+14\n"
     ]
    }
   ],
   "source": [
    "from sklearn.cluster import KMeans\n",
    "import numpy as np\n",
    "kmeans1_PCA = KMeans(n_clusters=2, random_state=999).fit(X_PCA)\n",
    "kmeans1_PCA.labels_\n",
    "print(np.mean(kmeans1_PCA.labels_ == Y))\n",
    "print(kmeans1_PCA.inertia_)"
   ]
  },
  {
   "cell_type": "markdown",
   "metadata": {},
   "source": [
    "# REDUCE"
   ]
  },
  {
   "cell_type": "code",
   "execution_count": 72,
   "metadata": {},
   "outputs": [
    {
     "data": {
      "text/html": [
       "<div>\n",
       "<table border=\"1\" class=\"dataframe\">\n",
       "  <thead>\n",
       "    <tr style=\"text-align: right;\">\n",
       "      <th></th>\n",
       "      <th>LIMIT_BAL</th>\n",
       "      <th>SEX</th>\n",
       "      <th>EDUCATION</th>\n",
       "      <th>MARRIAGE</th>\n",
       "      <th>AGE</th>\n",
       "      <th>pay</th>\n",
       "      <th>bill</th>\n",
       "      <th>pay_amt</th>\n",
       "    </tr>\n",
       "  </thead>\n",
       "  <tbody>\n",
       "    <tr>\n",
       "      <th>0</th>\n",
       "      <td>20000</td>\n",
       "      <td>2</td>\n",
       "      <td>2</td>\n",
       "      <td>1</td>\n",
       "      <td>24</td>\n",
       "      <td>-2</td>\n",
       "      <td>1284.000000</td>\n",
       "      <td>114.833333</td>\n",
       "    </tr>\n",
       "    <tr>\n",
       "      <th>1</th>\n",
       "      <td>120000</td>\n",
       "      <td>2</td>\n",
       "      <td>2</td>\n",
       "      <td>2</td>\n",
       "      <td>26</td>\n",
       "      <td>3</td>\n",
       "      <td>2846.166667</td>\n",
       "      <td>833.333333</td>\n",
       "    </tr>\n",
       "    <tr>\n",
       "      <th>2</th>\n",
       "      <td>90000</td>\n",
       "      <td>2</td>\n",
       "      <td>2</td>\n",
       "      <td>2</td>\n",
       "      <td>34</td>\n",
       "      <td>0</td>\n",
       "      <td>16942.166667</td>\n",
       "      <td>1836.333333</td>\n",
       "    </tr>\n",
       "    <tr>\n",
       "      <th>3</th>\n",
       "      <td>50000</td>\n",
       "      <td>2</td>\n",
       "      <td>2</td>\n",
       "      <td>1</td>\n",
       "      <td>37</td>\n",
       "      <td>0</td>\n",
       "      <td>38555.666667</td>\n",
       "      <td>1398.000000</td>\n",
       "    </tr>\n",
       "    <tr>\n",
       "      <th>4</th>\n",
       "      <td>50000</td>\n",
       "      <td>1</td>\n",
       "      <td>2</td>\n",
       "      <td>1</td>\n",
       "      <td>57</td>\n",
       "      <td>-2</td>\n",
       "      <td>18223.166667</td>\n",
       "      <td>9841.500000</td>\n",
       "    </tr>\n",
       "    <tr>\n",
       "      <th>5</th>\n",
       "      <td>50000</td>\n",
       "      <td>1</td>\n",
       "      <td>1</td>\n",
       "      <td>2</td>\n",
       "      <td>37</td>\n",
       "      <td>0</td>\n",
       "      <td>39685.666667</td>\n",
       "      <td>1295.333333</td>\n",
       "    </tr>\n",
       "    <tr>\n",
       "      <th>6</th>\n",
       "      <td>500000</td>\n",
       "      <td>1</td>\n",
       "      <td>1</td>\n",
       "      <td>2</td>\n",
       "      <td>29</td>\n",
       "      <td>0</td>\n",
       "      <td>454099.166667</td>\n",
       "      <td>30126.500000</td>\n",
       "    </tr>\n",
       "    <tr>\n",
       "      <th>7</th>\n",
       "      <td>100000</td>\n",
       "      <td>2</td>\n",
       "      <td>2</td>\n",
       "      <td>2</td>\n",
       "      <td>23</td>\n",
       "      <td>-3</td>\n",
       "      <td>2247.666667</td>\n",
       "      <td>798.500000</td>\n",
       "    </tr>\n",
       "    <tr>\n",
       "      <th>8</th>\n",
       "      <td>140000</td>\n",
       "      <td>2</td>\n",
       "      <td>3</td>\n",
       "      <td>1</td>\n",
       "      <td>28</td>\n",
       "      <td>2</td>\n",
       "      <td>10868.666667</td>\n",
       "      <td>1126.833333</td>\n",
       "    </tr>\n",
       "    <tr>\n",
       "      <th>9</th>\n",
       "      <td>20000</td>\n",
       "      <td>1</td>\n",
       "      <td>3</td>\n",
       "      <td>2</td>\n",
       "      <td>35</td>\n",
       "      <td>-10</td>\n",
       "      <td>4486.500000</td>\n",
       "      <td>2354.833333</td>\n",
       "    </tr>\n",
       "    <tr>\n",
       "      <th>10</th>\n",
       "      <td>200000</td>\n",
       "      <td>2</td>\n",
       "      <td>3</td>\n",
       "      <td>2</td>\n",
       "      <td>34</td>\n",
       "      <td>1</td>\n",
       "      <td>5744.500000</td>\n",
       "      <td>1078.666667</td>\n",
       "    </tr>\n",
       "    <tr>\n",
       "      <th>11</th>\n",
       "      <td>260000</td>\n",
       "      <td>2</td>\n",
       "      <td>1</td>\n",
       "      <td>2</td>\n",
       "      <td>51</td>\n",
       "      <td>-3</td>\n",
       "      <td>14728.166667</td>\n",
       "      <td>11051.333333</td>\n",
       "    </tr>\n",
       "    <tr>\n",
       "      <th>12</th>\n",
       "      <td>630000</td>\n",
       "      <td>2</td>\n",
       "      <td>2</td>\n",
       "      <td>2</td>\n",
       "      <td>41</td>\n",
       "      <td>-5</td>\n",
       "      <td>6834.500000</td>\n",
       "      <td>3895.000000</td>\n",
       "    </tr>\n",
       "    <tr>\n",
       "      <th>13</th>\n",
       "      <td>70000</td>\n",
       "      <td>1</td>\n",
       "      <td>2</td>\n",
       "      <td>2</td>\n",
       "      <td>30</td>\n",
       "      <td>7</td>\n",
       "      <td>56447.500000</td>\n",
       "      <td>1783.333333</td>\n",
       "    </tr>\n",
       "    <tr>\n",
       "      <th>14</th>\n",
       "      <td>250000</td>\n",
       "      <td>1</td>\n",
       "      <td>1</td>\n",
       "      <td>2</td>\n",
       "      <td>29</td>\n",
       "      <td>0</td>\n",
       "      <td>62265.166667</td>\n",
       "      <td>3000.000000</td>\n",
       "    </tr>\n",
       "    <tr>\n",
       "      <th>15</th>\n",
       "      <td>50000</td>\n",
       "      <td>2</td>\n",
       "      <td>3</td>\n",
       "      <td>3</td>\n",
       "      <td>23</td>\n",
       "      <td>3</td>\n",
       "      <td>32736.000000</td>\n",
       "      <td>1033.333333</td>\n",
       "    </tr>\n",
       "    <tr>\n",
       "      <th>16</th>\n",
       "      <td>20000</td>\n",
       "      <td>1</td>\n",
       "      <td>1</td>\n",
       "      <td>2</td>\n",
       "      <td>24</td>\n",
       "      <td>8</td>\n",
       "      <td>17693.500000</td>\n",
       "      <td>1058.333333</td>\n",
       "    </tr>\n",
       "    <tr>\n",
       "      <th>17</th>\n",
       "      <td>320000</td>\n",
       "      <td>1</td>\n",
       "      <td>1</td>\n",
       "      <td>1</td>\n",
       "      <td>49</td>\n",
       "      <td>-3</td>\n",
       "      <td>161002.333333</td>\n",
       "      <td>60316.166667</td>\n",
       "    </tr>\n",
       "    <tr>\n",
       "      <th>18</th>\n",
       "      <td>360000</td>\n",
       "      <td>2</td>\n",
       "      <td>1</td>\n",
       "      <td>1</td>\n",
       "      <td>49</td>\n",
       "      <td>-9</td>\n",
       "      <td>0.000000</td>\n",
       "      <td>0.000000</td>\n",
       "    </tr>\n",
       "    <tr>\n",
       "      <th>19</th>\n",
       "      <td>180000</td>\n",
       "      <td>2</td>\n",
       "      <td>1</td>\n",
       "      <td>2</td>\n",
       "      <td>29</td>\n",
       "      <td>-9</td>\n",
       "      <td>0.000000</td>\n",
       "      <td>0.000000</td>\n",
       "    </tr>\n",
       "    <tr>\n",
       "      <th>20</th>\n",
       "      <td>130000</td>\n",
       "      <td>2</td>\n",
       "      <td>3</td>\n",
       "      <td>2</td>\n",
       "      <td>39</td>\n",
       "      <td>-1</td>\n",
       "      <td>20647.166667</td>\n",
       "      <td>7038.500000</td>\n",
       "    </tr>\n",
       "    <tr>\n",
       "      <th>21</th>\n",
       "      <td>120000</td>\n",
       "      <td>2</td>\n",
       "      <td>2</td>\n",
       "      <td>1</td>\n",
       "      <td>39</td>\n",
       "      <td>-6</td>\n",
       "      <td>316.000000</td>\n",
       "      <td>263.333333</td>\n",
       "    </tr>\n",
       "    <tr>\n",
       "      <th>22</th>\n",
       "      <td>70000</td>\n",
       "      <td>2</td>\n",
       "      <td>2</td>\n",
       "      <td>2</td>\n",
       "      <td>26</td>\n",
       "      <td>8</td>\n",
       "      <td>44245.833333</td>\n",
       "      <td>1835.000000</td>\n",
       "    </tr>\n",
       "    <tr>\n",
       "      <th>23</th>\n",
       "      <td>450000</td>\n",
       "      <td>2</td>\n",
       "      <td>1</td>\n",
       "      <td>1</td>\n",
       "      <td>40</td>\n",
       "      <td>-12</td>\n",
       "      <td>4494.166667</td>\n",
       "      <td>3764.833333</td>\n",
       "    </tr>\n",
       "    <tr>\n",
       "      <th>24</th>\n",
       "      <td>90000</td>\n",
       "      <td>1</td>\n",
       "      <td>1</td>\n",
       "      <td>2</td>\n",
       "      <td>23</td>\n",
       "      <td>-1</td>\n",
       "      <td>5310.666667</td>\n",
       "      <td>2733.333333</td>\n",
       "    </tr>\n",
       "    <tr>\n",
       "      <th>25</th>\n",
       "      <td>50000</td>\n",
       "      <td>1</td>\n",
       "      <td>3</td>\n",
       "      <td>2</td>\n",
       "      <td>23</td>\n",
       "      <td>0</td>\n",
       "      <td>35715.833333</td>\n",
       "      <td>1315.166667</td>\n",
       "    </tr>\n",
       "    <tr>\n",
       "      <th>26</th>\n",
       "      <td>60000</td>\n",
       "      <td>1</td>\n",
       "      <td>1</td>\n",
       "      <td>2</td>\n",
       "      <td>27</td>\n",
       "      <td>-5</td>\n",
       "      <td>-65.666667</td>\n",
       "      <td>416.666667</td>\n",
       "    </tr>\n",
       "    <tr>\n",
       "      <th>27</th>\n",
       "      <td>50000</td>\n",
       "      <td>2</td>\n",
       "      <td>3</td>\n",
       "      <td>2</td>\n",
       "      <td>30</td>\n",
       "      <td>0</td>\n",
       "      <td>18711.333333</td>\n",
       "      <td>1185.333333</td>\n",
       "    </tr>\n",
       "    <tr>\n",
       "      <th>28</th>\n",
       "      <td>50000</td>\n",
       "      <td>2</td>\n",
       "      <td>3</td>\n",
       "      <td>1</td>\n",
       "      <td>47</td>\n",
       "      <td>-6</td>\n",
       "      <td>6701.333333</td>\n",
       "      <td>6594.500000</td>\n",
       "    </tr>\n",
       "    <tr>\n",
       "      <th>29</th>\n",
       "      <td>50000</td>\n",
       "      <td>1</td>\n",
       "      <td>1</td>\n",
       "      <td>2</td>\n",
       "      <td>26</td>\n",
       "      <td>0</td>\n",
       "      <td>16180.333333</td>\n",
       "      <td>1100.000000</td>\n",
       "    </tr>\n",
       "    <tr>\n",
       "      <th>...</th>\n",
       "      <td>...</td>\n",
       "      <td>...</td>\n",
       "      <td>...</td>\n",
       "      <td>...</td>\n",
       "      <td>...</td>\n",
       "      <td>...</td>\n",
       "      <td>...</td>\n",
       "      <td>...</td>\n",
       "    </tr>\n",
       "    <tr>\n",
       "      <th>29970</th>\n",
       "      <td>360000</td>\n",
       "      <td>1</td>\n",
       "      <td>1</td>\n",
       "      <td>1</td>\n",
       "      <td>34</td>\n",
       "      <td>-4</td>\n",
       "      <td>37929.500000</td>\n",
       "      <td>27018.333333</td>\n",
       "    </tr>\n",
       "    <tr>\n",
       "      <th>29971</th>\n",
       "      <td>80000</td>\n",
       "      <td>1</td>\n",
       "      <td>3</td>\n",
       "      <td>1</td>\n",
       "      <td>36</td>\n",
       "      <td>0</td>\n",
       "      <td>69174.500000</td>\n",
       "      <td>2780.166667</td>\n",
       "    </tr>\n",
       "    <tr>\n",
       "      <th>29972</th>\n",
       "      <td>190000</td>\n",
       "      <td>1</td>\n",
       "      <td>1</td>\n",
       "      <td>1</td>\n",
       "      <td>37</td>\n",
       "      <td>-1</td>\n",
       "      <td>40951.833333</td>\n",
       "      <td>32399.000000</td>\n",
       "    </tr>\n",
       "    <tr>\n",
       "      <th>29973</th>\n",
       "      <td>230000</td>\n",
       "      <td>1</td>\n",
       "      <td>2</td>\n",
       "      <td>1</td>\n",
       "      <td>35</td>\n",
       "      <td>-9</td>\n",
       "      <td>0.000000</td>\n",
       "      <td>0.000000</td>\n",
       "    </tr>\n",
       "    <tr>\n",
       "      <th>29974</th>\n",
       "      <td>50000</td>\n",
       "      <td>1</td>\n",
       "      <td>2</td>\n",
       "      <td>1</td>\n",
       "      <td>37</td>\n",
       "      <td>7</td>\n",
       "      <td>5050.500000</td>\n",
       "      <td>833.333333</td>\n",
       "    </tr>\n",
       "    <tr>\n",
       "      <th>29975</th>\n",
       "      <td>220000</td>\n",
       "      <td>1</td>\n",
       "      <td>2</td>\n",
       "      <td>1</td>\n",
       "      <td>41</td>\n",
       "      <td>-6</td>\n",
       "      <td>10798.500000</td>\n",
       "      <td>5335.333333</td>\n",
       "    </tr>\n",
       "    <tr>\n",
       "      <th>29976</th>\n",
       "      <td>40000</td>\n",
       "      <td>1</td>\n",
       "      <td>2</td>\n",
       "      <td>2</td>\n",
       "      <td>47</td>\n",
       "      <td>13</td>\n",
       "      <td>51001.500000</td>\n",
       "      <td>1586.666667</td>\n",
       "    </tr>\n",
       "    <tr>\n",
       "      <th>29977</th>\n",
       "      <td>420000</td>\n",
       "      <td>1</td>\n",
       "      <td>1</td>\n",
       "      <td>2</td>\n",
       "      <td>34</td>\n",
       "      <td>0</td>\n",
       "      <td>140526.500000</td>\n",
       "      <td>5933.333333</td>\n",
       "    </tr>\n",
       "    <tr>\n",
       "      <th>29978</th>\n",
       "      <td>310000</td>\n",
       "      <td>1</td>\n",
       "      <td>2</td>\n",
       "      <td>1</td>\n",
       "      <td>39</td>\n",
       "      <td>0</td>\n",
       "      <td>226107.833333</td>\n",
       "      <td>9237.333333</td>\n",
       "    </tr>\n",
       "    <tr>\n",
       "      <th>29979</th>\n",
       "      <td>180000</td>\n",
       "      <td>1</td>\n",
       "      <td>1</td>\n",
       "      <td>1</td>\n",
       "      <td>32</td>\n",
       "      <td>-12</td>\n",
       "      <td>0.000000</td>\n",
       "      <td>0.000000</td>\n",
       "    </tr>\n",
       "    <tr>\n",
       "      <th>29980</th>\n",
       "      <td>50000</td>\n",
       "      <td>1</td>\n",
       "      <td>3</td>\n",
       "      <td>2</td>\n",
       "      <td>42</td>\n",
       "      <td>0</td>\n",
       "      <td>38757.166667</td>\n",
       "      <td>4750.000000</td>\n",
       "    </tr>\n",
       "    <tr>\n",
       "      <th>29981</th>\n",
       "      <td>50000</td>\n",
       "      <td>1</td>\n",
       "      <td>2</td>\n",
       "      <td>1</td>\n",
       "      <td>44</td>\n",
       "      <td>7</td>\n",
       "      <td>29009.833333</td>\n",
       "      <td>934.166667</td>\n",
       "    </tr>\n",
       "    <tr>\n",
       "      <th>29982</th>\n",
       "      <td>90000</td>\n",
       "      <td>1</td>\n",
       "      <td>2</td>\n",
       "      <td>1</td>\n",
       "      <td>36</td>\n",
       "      <td>0</td>\n",
       "      <td>10810.500000</td>\n",
       "      <td>1366.666667</td>\n",
       "    </tr>\n",
       "    <tr>\n",
       "      <th>29983</th>\n",
       "      <td>20000</td>\n",
       "      <td>1</td>\n",
       "      <td>2</td>\n",
       "      <td>1</td>\n",
       "      <td>44</td>\n",
       "      <td>-12</td>\n",
       "      <td>3540.333333</td>\n",
       "      <td>3548.000000</td>\n",
       "    </tr>\n",
       "    <tr>\n",
       "      <th>29984</th>\n",
       "      <td>30000</td>\n",
       "      <td>1</td>\n",
       "      <td>2</td>\n",
       "      <td>2</td>\n",
       "      <td>38</td>\n",
       "      <td>-7</td>\n",
       "      <td>1899.333333</td>\n",
       "      <td>2212.500000</td>\n",
       "    </tr>\n",
       "    <tr>\n",
       "      <th>29985</th>\n",
       "      <td>240000</td>\n",
       "      <td>1</td>\n",
       "      <td>1</td>\n",
       "      <td>2</td>\n",
       "      <td>30</td>\n",
       "      <td>-12</td>\n",
       "      <td>0.000000</td>\n",
       "      <td>0.000000</td>\n",
       "    </tr>\n",
       "    <tr>\n",
       "      <th>29986</th>\n",
       "      <td>360000</td>\n",
       "      <td>1</td>\n",
       "      <td>1</td>\n",
       "      <td>2</td>\n",
       "      <td>35</td>\n",
       "      <td>-10</td>\n",
       "      <td>370.000000</td>\n",
       "      <td>0.000000</td>\n",
       "    </tr>\n",
       "    <tr>\n",
       "      <th>29987</th>\n",
       "      <td>130000</td>\n",
       "      <td>1</td>\n",
       "      <td>1</td>\n",
       "      <td>2</td>\n",
       "      <td>34</td>\n",
       "      <td>0</td>\n",
       "      <td>58670.500000</td>\n",
       "      <td>18505.333333</td>\n",
       "    </tr>\n",
       "    <tr>\n",
       "      <th>29988</th>\n",
       "      <td>250000</td>\n",
       "      <td>1</td>\n",
       "      <td>1</td>\n",
       "      <td>1</td>\n",
       "      <td>34</td>\n",
       "      <td>0</td>\n",
       "      <td>229345.000000</td>\n",
       "      <td>16970.000000</td>\n",
       "    </tr>\n",
       "    <tr>\n",
       "      <th>29989</th>\n",
       "      <td>150000</td>\n",
       "      <td>1</td>\n",
       "      <td>1</td>\n",
       "      <td>2</td>\n",
       "      <td>35</td>\n",
       "      <td>-7</td>\n",
       "      <td>2201.833333</td>\n",
       "      <td>1639.500000</td>\n",
       "    </tr>\n",
       "    <tr>\n",
       "      <th>29990</th>\n",
       "      <td>140000</td>\n",
       "      <td>1</td>\n",
       "      <td>2</td>\n",
       "      <td>1</td>\n",
       "      <td>41</td>\n",
       "      <td>0</td>\n",
       "      <td>108105.833333</td>\n",
       "      <td>3788.833333</td>\n",
       "    </tr>\n",
       "    <tr>\n",
       "      <th>29991</th>\n",
       "      <td>210000</td>\n",
       "      <td>1</td>\n",
       "      <td>2</td>\n",
       "      <td>1</td>\n",
       "      <td>34</td>\n",
       "      <td>13</td>\n",
       "      <td>2500.000000</td>\n",
       "      <td>0.000000</td>\n",
       "    </tr>\n",
       "    <tr>\n",
       "      <th>29992</th>\n",
       "      <td>10000</td>\n",
       "      <td>1</td>\n",
       "      <td>3</td>\n",
       "      <td>1</td>\n",
       "      <td>43</td>\n",
       "      <td>-6</td>\n",
       "      <td>3200.333333</td>\n",
       "      <td>333.333333</td>\n",
       "    </tr>\n",
       "    <tr>\n",
       "      <th>29993</th>\n",
       "      <td>100000</td>\n",
       "      <td>1</td>\n",
       "      <td>1</td>\n",
       "      <td>2</td>\n",
       "      <td>38</td>\n",
       "      <td>-2</td>\n",
       "      <td>50428.000000</td>\n",
       "      <td>20797.333333</td>\n",
       "    </tr>\n",
       "    <tr>\n",
       "      <th>29994</th>\n",
       "      <td>80000</td>\n",
       "      <td>1</td>\n",
       "      <td>2</td>\n",
       "      <td>2</td>\n",
       "      <td>34</td>\n",
       "      <td>12</td>\n",
       "      <td>78488.833333</td>\n",
       "      <td>3583.333333</td>\n",
       "    </tr>\n",
       "    <tr>\n",
       "      <th>29995</th>\n",
       "      <td>220000</td>\n",
       "      <td>1</td>\n",
       "      <td>3</td>\n",
       "      <td>1</td>\n",
       "      <td>39</td>\n",
       "      <td>0</td>\n",
       "      <td>120891.500000</td>\n",
       "      <td>7091.666667</td>\n",
       "    </tr>\n",
       "    <tr>\n",
       "      <th>29996</th>\n",
       "      <td>150000</td>\n",
       "      <td>1</td>\n",
       "      <td>3</td>\n",
       "      <td>2</td>\n",
       "      <td>43</td>\n",
       "      <td>-4</td>\n",
       "      <td>3530.333333</td>\n",
       "      <td>2415.000000</td>\n",
       "    </tr>\n",
       "    <tr>\n",
       "      <th>29997</th>\n",
       "      <td>30000</td>\n",
       "      <td>1</td>\n",
       "      <td>2</td>\n",
       "      <td>2</td>\n",
       "      <td>37</td>\n",
       "      <td>8</td>\n",
       "      <td>11749.333333</td>\n",
       "      <td>5216.666667</td>\n",
       "    </tr>\n",
       "    <tr>\n",
       "      <th>29998</th>\n",
       "      <td>80000</td>\n",
       "      <td>1</td>\n",
       "      <td>3</td>\n",
       "      <td>1</td>\n",
       "      <td>41</td>\n",
       "      <td>-1</td>\n",
       "      <td>44435.166667</td>\n",
       "      <td>24530.166667</td>\n",
       "    </tr>\n",
       "    <tr>\n",
       "      <th>29999</th>\n",
       "      <td>50000</td>\n",
       "      <td>1</td>\n",
       "      <td>2</td>\n",
       "      <td>1</td>\n",
       "      <td>46</td>\n",
       "      <td>0</td>\n",
       "      <td>38479.000000</td>\n",
       "      <td>1384.666667</td>\n",
       "    </tr>\n",
       "  </tbody>\n",
       "</table>\n",
       "<p>30000 rows × 8 columns</p>\n",
       "</div>"
      ],
      "text/plain": [
       "       LIMIT_BAL  SEX  EDUCATION  MARRIAGE  AGE  pay           bill  \\\n",
       "0          20000    2          2         1   24   -2    1284.000000   \n",
       "1         120000    2          2         2   26    3    2846.166667   \n",
       "2          90000    2          2         2   34    0   16942.166667   \n",
       "3          50000    2          2         1   37    0   38555.666667   \n",
       "4          50000    1          2         1   57   -2   18223.166667   \n",
       "5          50000    1          1         2   37    0   39685.666667   \n",
       "6         500000    1          1         2   29    0  454099.166667   \n",
       "7         100000    2          2         2   23   -3    2247.666667   \n",
       "8         140000    2          3         1   28    2   10868.666667   \n",
       "9          20000    1          3         2   35  -10    4486.500000   \n",
       "10        200000    2          3         2   34    1    5744.500000   \n",
       "11        260000    2          1         2   51   -3   14728.166667   \n",
       "12        630000    2          2         2   41   -5    6834.500000   \n",
       "13         70000    1          2         2   30    7   56447.500000   \n",
       "14        250000    1          1         2   29    0   62265.166667   \n",
       "15         50000    2          3         3   23    3   32736.000000   \n",
       "16         20000    1          1         2   24    8   17693.500000   \n",
       "17        320000    1          1         1   49   -3  161002.333333   \n",
       "18        360000    2          1         1   49   -9       0.000000   \n",
       "19        180000    2          1         2   29   -9       0.000000   \n",
       "20        130000    2          3         2   39   -1   20647.166667   \n",
       "21        120000    2          2         1   39   -6     316.000000   \n",
       "22         70000    2          2         2   26    8   44245.833333   \n",
       "23        450000    2          1         1   40  -12    4494.166667   \n",
       "24         90000    1          1         2   23   -1    5310.666667   \n",
       "25         50000    1          3         2   23    0   35715.833333   \n",
       "26         60000    1          1         2   27   -5     -65.666667   \n",
       "27         50000    2          3         2   30    0   18711.333333   \n",
       "28         50000    2          3         1   47   -6    6701.333333   \n",
       "29         50000    1          1         2   26    0   16180.333333   \n",
       "...          ...  ...        ...       ...  ...  ...            ...   \n",
       "29970     360000    1          1         1   34   -4   37929.500000   \n",
       "29971      80000    1          3         1   36    0   69174.500000   \n",
       "29972     190000    1          1         1   37   -1   40951.833333   \n",
       "29973     230000    1          2         1   35   -9       0.000000   \n",
       "29974      50000    1          2         1   37    7    5050.500000   \n",
       "29975     220000    1          2         1   41   -6   10798.500000   \n",
       "29976      40000    1          2         2   47   13   51001.500000   \n",
       "29977     420000    1          1         2   34    0  140526.500000   \n",
       "29978     310000    1          2         1   39    0  226107.833333   \n",
       "29979     180000    1          1         1   32  -12       0.000000   \n",
       "29980      50000    1          3         2   42    0   38757.166667   \n",
       "29981      50000    1          2         1   44    7   29009.833333   \n",
       "29982      90000    1          2         1   36    0   10810.500000   \n",
       "29983      20000    1          2         1   44  -12    3540.333333   \n",
       "29984      30000    1          2         2   38   -7    1899.333333   \n",
       "29985     240000    1          1         2   30  -12       0.000000   \n",
       "29986     360000    1          1         2   35  -10     370.000000   \n",
       "29987     130000    1          1         2   34    0   58670.500000   \n",
       "29988     250000    1          1         1   34    0  229345.000000   \n",
       "29989     150000    1          1         2   35   -7    2201.833333   \n",
       "29990     140000    1          2         1   41    0  108105.833333   \n",
       "29991     210000    1          2         1   34   13    2500.000000   \n",
       "29992      10000    1          3         1   43   -6    3200.333333   \n",
       "29993     100000    1          1         2   38   -2   50428.000000   \n",
       "29994      80000    1          2         2   34   12   78488.833333   \n",
       "29995     220000    1          3         1   39    0  120891.500000   \n",
       "29996     150000    1          3         2   43   -4    3530.333333   \n",
       "29997      30000    1          2         2   37    8   11749.333333   \n",
       "29998      80000    1          3         1   41   -1   44435.166667   \n",
       "29999      50000    1          2         1   46    0   38479.000000   \n",
       "\n",
       "            pay_amt  \n",
       "0        114.833333  \n",
       "1        833.333333  \n",
       "2       1836.333333  \n",
       "3       1398.000000  \n",
       "4       9841.500000  \n",
       "5       1295.333333  \n",
       "6      30126.500000  \n",
       "7        798.500000  \n",
       "8       1126.833333  \n",
       "9       2354.833333  \n",
       "10      1078.666667  \n",
       "11     11051.333333  \n",
       "12      3895.000000  \n",
       "13      1783.333333  \n",
       "14      3000.000000  \n",
       "15      1033.333333  \n",
       "16      1058.333333  \n",
       "17     60316.166667  \n",
       "18         0.000000  \n",
       "19         0.000000  \n",
       "20      7038.500000  \n",
       "21       263.333333  \n",
       "22      1835.000000  \n",
       "23      3764.833333  \n",
       "24      2733.333333  \n",
       "25      1315.166667  \n",
       "26       416.666667  \n",
       "27      1185.333333  \n",
       "28      6594.500000  \n",
       "29      1100.000000  \n",
       "...             ...  \n",
       "29970  27018.333333  \n",
       "29971   2780.166667  \n",
       "29972  32399.000000  \n",
       "29973      0.000000  \n",
       "29974    833.333333  \n",
       "29975   5335.333333  \n",
       "29976   1586.666667  \n",
       "29977   5933.333333  \n",
       "29978   9237.333333  \n",
       "29979      0.000000  \n",
       "29980   4750.000000  \n",
       "29981    934.166667  \n",
       "29982   1366.666667  \n",
       "29983   3548.000000  \n",
       "29984   2212.500000  \n",
       "29985      0.000000  \n",
       "29986      0.000000  \n",
       "29987  18505.333333  \n",
       "29988  16970.000000  \n",
       "29989   1639.500000  \n",
       "29990   3788.833333  \n",
       "29991      0.000000  \n",
       "29992    333.333333  \n",
       "29993  20797.333333  \n",
       "29994   3583.333333  \n",
       "29995   7091.666667  \n",
       "29996   2415.000000  \n",
       "29997   5216.666667  \n",
       "29998  24530.166667  \n",
       "29999   1384.666667  \n",
       "\n",
       "[30000 rows x 8 columns]"
      ]
     },
     "execution_count": 72,
     "metadata": {},
     "output_type": "execute_result"
    }
   ],
   "source": [
    "X_reduce = X\n",
    "X_reduce['pay'] = X_reduce.iloc[:,5:11].sum(axis=1)\n",
    "X_reduce['bill'] = X_reduce.iloc[:,11:17].sum(axis=1)\n",
    "X_reduce['bill'] = X_reduce['bill']/6\n",
    "X_reduce['pay_amt'] = X_reduce.iloc[:,17:23].sum(axis=1)\n",
    "X_reduce['pay_amt'] = X_reduce['pay_amt']/6\n",
    "X_reduce = X_reduce.drop(\"PAY_0\",axis=1)\n",
    "X_reduce = X_reduce.drop(\"PAY_2\",axis=1)\n",
    "X_reduce = X_reduce.drop(\"PAY_3\",axis=1)\n",
    "X_reduce = X_reduce.drop(\"PAY_4\",axis=1)\n",
    "X_reduce = X_reduce.drop(\"PAY_5\",axis=1)\n",
    "X_reduce = X_reduce.drop(\"PAY_6\",axis=1)\n",
    "X_reduce = X_reduce.drop(\"BILL_AMT1\",axis=1)\n",
    "X_reduce = X_reduce.drop(\"BILL_AMT2\",axis=1)\n",
    "X_reduce = X_reduce.drop(\"BILL_AMT3\",axis=1)\n",
    "X_reduce = X_reduce.drop(\"BILL_AMT4\",axis=1)\n",
    "X_reduce = X_reduce.drop(\"BILL_AMT5\",axis=1)\n",
    "X_reduce = X_reduce.drop(\"BILL_AMT6\",axis=1)\n",
    "X_reduce = X_reduce.drop(\"PAY_AMT1\",axis=1)\n",
    "X_reduce = X_reduce.drop(\"PAY_AMT2\",axis=1)\n",
    "X_reduce = X_reduce.drop(\"PAY_AMT3\",axis=1)\n",
    "X_reduce = X_reduce.drop(\"PAY_AMT4\",axis=1)\n",
    "X_reduce = X_reduce.drop(\"PAY_AMT5\",axis=1)\n",
    "X_reduce = X_reduce.drop(\"PAY_AMT6\",axis=1)\n",
    "X_reduce\n"
   ]
  },
  {
   "cell_type": "markdown",
   "metadata": {},
   "source": [
    "# reduce cluster"
   ]
  },
  {
   "cell_type": "code",
   "execution_count": 169,
   "metadata": {},
   "outputs": [
    {
     "name": "stdout",
     "output_type": "stream",
     "text": [
      "0.563933333333\n",
      "2.72345347137e+14\n"
     ]
    }
   ],
   "source": [
    "from sklearn.cluster import KMeans\n",
    "import numpy as np\n",
    "kmeans1_reduce = KMeans(n_clusters=2, random_state=999).fit(X_reduce)\n",
    "kmeans1_reduce.labels_\n",
    "print(np.mean(kmeans1_reduce.labels_ == (1-Y)))\n",
    "print(kmeans1_reduce.inertia_)"
   ]
  },
  {
   "cell_type": "code",
   "execution_count": null,
   "metadata": {
    "collapsed": true
   },
   "outputs": [],
   "source": []
  }
 ],
 "metadata": {
  "colab": {
   "name": "Untitled3.ipynb",
   "provenance": []
  },
  "kernelspec": {
   "display_name": "Python 3",
   "language": "python",
   "name": "python3"
  },
  "language_info": {
   "codemirror_mode": {
    "name": "ipython",
    "version": 3
   },
   "file_extension": ".py",
   "mimetype": "text/x-python",
   "name": "python",
   "nbconvert_exporter": "python",
   "pygments_lexer": "ipython3",
   "version": "3.8.8"
  }
 },
 "nbformat": 4,
 "nbformat_minor": 1
}
